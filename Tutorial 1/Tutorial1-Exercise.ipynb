{
 "cells": [
  {
   "cell_type": "markdown",
   "id": "b4608da9-61fc-4785-8c90-9e629b69fa88",
   "metadata": {},
   "source": [
    "# Cosmology I - The Early Universe (Academic Year 2023/204)\n",
    "\n",
    "#### Lecture for the Master's degree on \"Physics of the Universe: Cosmology, Astrophysics, Particles and Astroparticles\" at the University of Zaragoza, Spain. <br>\n",
    "\n",
    "**Lectures:** José Manuel Carmona (jcarmona@unizar.es) <br> \n",
    "**Tutorials:** Mathieu Kaltschmidt (mkaltschmidt@unizar.es)"
   ]
  },
  {
   "cell_type": "markdown",
   "id": "18221fa9-acbc-4a91-b9ce-a38938b3ee5d",
   "metadata": {
    "tags": []
   },
   "source": [
    "## Tutorial 1: Simulating the Hot Big Bang Model (28.09.23)"
   ]
  },
  {
   "cell_type": "markdown",
   "id": "6aa2b0cc-c1db-4eec-9187-a821455f1dde",
   "metadata": {},
   "source": [
    "We will have a total of five tutorials dedicated to study some of the numericals tools used (not only) in Cosmology. The general goal of these exercises is to gain intuition about the physical concepts introduced during the lectures and to train you in the use of modern computing tools that are regularly used in the working life of a physicist, such as Python and Mathematica. <br> \n",
    "\n",
    "Today we start with some introductory exercises related to the FLRW metric and the Hot Big Bang Model, that will be discussed in next weeks lectures. The goal is to write your first own cosmological simulation code and study the curvature dependence of the evolution of the cosmic scale factor $a(t)$ and the the Hubble parameter $H(t)$ throughout the epochs of the cosmic evolution."
   ]
  },
  {
   "cell_type": "code",
   "execution_count": null,
   "id": "a4f72414-b3f6-47d6-84bf-101da52e3a2c",
   "metadata": {},
   "outputs": [],
   "source": [
    "#Setting up the python environment\n",
    "import numpy as np #standard numerics library for scientific computing\n",
    "import matplotlib.pyplot as plt #for plots and visualisations\n",
    "import time #to measure the performance of your implementations"
   ]
  },
  {
   "cell_type": "markdown",
   "id": "2ca54b10-58a3-4906-8439-8d6268af84f1",
   "metadata": {
    "tags": []
   },
   "source": [
    "### Exercise 1: Evolution of the Cosmic Scale Factor $a(t)$"
   ]
  },
  {
   "cell_type": "markdown",
   "id": "b1bc066b-4573-4709-9cdd-8b07bd122c7f",
   "metadata": {},
   "source": [
    "#### Objective\n",
    "In this exercise, you will solve the Friedmann equation and compute the scale factor $a(t)$ for different cosmological epochs, focusing on matter and radiation domination. You will then plot the scale factor as a function of time $a(t)$ for various initial conditions.\n",
    "\n",
    "#### Instructions\n",
    "\n",
    "##### Step 1: Implement the Friedmann Equation\n",
    "1. Start by implementing the Friedmann equation for the evolution of the scale factor in terms of the so called density parameters $\\Omega_i(t) := \\frac{\\rho_i(t)}{\\rho_{\\text{crit}}(t)} $:\n",
    "\n",
    "   $H^2(t) = \\left(\\frac{{\\dot{a}(t)}}{a(t)}\\right)^2 = H_0^2\\left(\\Omega_{r0}a^{-4}+ \\Omega_{m0}a^{-3} + \\Omega_{K}a^{-2} + \\Omega_{\\Lambda}\\right)$\n",
    "\n",
    "\n",
    "   where:\n",
    "    - $a$ is the scale factor (as you have seen in the defintion of the FLRW metric)\n",
    "   - $\\dot{a}$ is the time derivative of the scale factor.\n",
    "\n",
    "   - $\\rho_{\\text{crit}}$ is the critical energy density, $\\rho_{\\text{crit}} := \\frac{3H^2(t)}{8\\pi G}$.\n",
    "\n",
    "2. Use the definition of $H(t)$ to implement a differential equation for $\\dot{a}(a,t)$ which we will solve later, in order to obtain the evolution of the scale factor during the cosmological epochs:\n",
    "   - radiation domination: $\\rho = \\rho_{\\text{rad}} \\cdot a^{-4}$\n",
    "   - matter domination: $\\rho = \\rho_{\\text{matter}} \\cdot a^{-3}$\n",
    "   - curvature : $\\rho = \\rho_{\\text{K}} \\cdot a^{-2}$\n",
    "   - dark energy (or cosmological constant) domination: $\\rho = \\rho_{\\Lambda}$\n",
    "(These relations are already made implicit in the definition of the Friedmann equation here!)"
   ]
  },
  {
   "cell_type": "markdown",
   "id": "ecf9e9dc-c87c-4cdc-ac0e-60013b8d9048",
   "metadata": {},
   "source": [
    "##### Setting up the physics and numerics:"
   ]
  },
  {
   "cell_type": "code",
   "execution_count": null,
   "id": "2a6f9cc4-875d-43c9-a787-c79bc9ea3285",
   "metadata": {},
   "outputs": [],
   "source": [
    "#Setting up the physics\n",
    "H0 = 70.0  # Hubble constant today in km/s/Mpc\n",
    "G = 6.67e-11 #Newtons constant on N*m^2/kg^2\n",
    "Omega_r0 = 0.7 # Radiation density parameter today\n",
    "Omega_m0 = 0.3  # Matter density parameter today\n",
    "Omega_de0 = 0.0  # Dark energy (or Lambda) density parameter today\n",
    "Omega_k = 0.0 #Curvature (set to 0 for simplicity, in accordance with observations)"
   ]
  },
  {
   "cell_type": "markdown",
   "id": "ac60c3f7-6e41-4782-9aa5-868a475b2b24",
   "metadata": {},
   "source": [
    "##### Step 2: Numerical Integration\n",
    "3. Use numerical integration (e.g., Euler's method or a more sophisticated method like scipy's `odeint`) to solve the Friedmann equation and compute the scale factor $a(t)$.\n",
    "\n",
    "4. Choose a range of initial conditions for the scale factor $a$ and its time derivative ($\\dot{a}$) at an early time.\n",
    "\n",
    "5. For each set of initial conditions, integrate the Friedmann equation and compute $a(t)$ over a range of cosmic times."
   ]
  },
  {
   "cell_type": "code",
   "execution_count": null,
   "id": "b13ed9c3-a2da-4539-ba1c-652136ca0613",
   "metadata": {},
   "outputs": [],
   "source": [
    "# Function to compute the derivative of the scale factor with respect to time\n",
    "def a_dot(a, t, Omega_r0, Omega_m0, Omega_k, Omega_de0, H0):\n",
    "    \n",
    "    # Calculate the Hubble parameter at each epoch from the Friedmann equation\n",
    "    H = #YOUR CODE HERE\n",
    "    \n",
    "    # Derivative of the scale factor \n",
    "    da_dt = #YOUR CODE HERE (think about the relation between a_dot and H!)\n",
    "    return da_dt"
   ]
  },
  {
   "cell_type": "markdown",
   "id": "89f3827c-97ce-49bf-8ddf-9a6f0031bdc2",
   "metadata": {},
   "source": [
    "##### Introduction to the Euler Method\n",
    "\n",
    "The Euler method is a straightforward numerical technique for solving ordinary differential equations (ODEs). It provides an accessible way to approximate the solutions of differential equations when an analytical solution is challenging or impossible to find. \n",
    "\n",
    "At its core, the Euler method relies on the concept of approximating the derivative of a function to compute its values at different points. For our specific application in cosmology, we use the Euler method to solve the differential equation that describes the evolution of the scale factor, denoted as $a(t)$, as the universe expands.\n",
    "\n",
    "In a more formal way: $\\frac{d X}{d t} \\simeq \\frac{X(t+\\Delta t)-X(t)}{\\Delta t} \\implies X(t+\\Delta t) \\simeq X(t) + \\frac{d X}{d t}\\Delta t + \\mathcal{O}(\\Delta t^2)$\n",
    "\n",
    "In this exercise, we will apply the Euler method to numerically solve the differential equation for the scale factor. By stepping through time in small increments and approximating the rate of change of the scale factor at each step, we can trace the evolution of the universe's expansion. This approach allows us to gain insights into how the scale factor changes with time under different cosmological conditions.\n",
    "\n",
    "As you work through the exercise, keep in mind that while the Euler method is a simple and intuitive approach, it may not always yield highly accurate results. Other advanced numerical methods can provide more precise solutions for complex cosmological models (as we will see..). Nevertheless, the Euler method serves as an excellent starting point for understanding the basics of numerical integration and its applications in cosmology."
   ]
  },
  {
   "cell_type": "code",
   "execution_count": null,
   "id": "57552d4d-08f1-4a76-96ee-e2dc12c15779",
   "metadata": {},
   "outputs": [],
   "source": [
    "#Define the time stepping of your simulation\n",
    "steps = int(1e7) #number of timesteps (seems to only work for many steps)\n",
    "t_in = 0.0 #initial time [Gyr]\n",
    "t_f = 14.0 #final time [Gyr]\n",
    "dt = (t_f - t_in)/steps #stepsize\n",
    "\n",
    "# Initialize arrays to store time and scale factor values\n",
    "t = np.linspace(t_in, t_f, steps) #Creates a numpy array of length \"steps\", with linear spacing\n",
    "a_t = np.zeros_like(t) #Creates a numpy array with same shape as t, with all values set to zero (same idea as before)\n",
    "\n",
    "# Initial scale factor value\n",
    "a0 = 1e-5\n",
    "a_t[0] = a0 #Initialise first value of a_t"
   ]
  },
  {
   "cell_type": "code",
   "execution_count": null,
   "id": "81229649-c6bd-4d72-91f2-bf698efded49",
   "metadata": {},
   "outputs": [],
   "source": [
    "# Perform time-stepping using the Euler method\n",
    "start = time.time() #don't delete! measures the runtime of your code\n",
    "\n",
    "#Euler loop\n",
    "for i in range(steps-1):\n",
    "    #YOUR CODE HERE\n",
    "    \n",
    "end = time.time() #don't delete!\n",
    "print('Done. This computation took %f seconds'%(end-start))"
   ]
  },
  {
   "cell_type": "markdown",
   "id": "3a16d718-b029-4f5a-8bd2-7962ec0edde6",
   "metadata": {},
   "source": [
    "#### Step 3: Plotting the Results\n",
    "\n",
    "6. Plot the resulting $a(t)$ curves for different sets of initial conditions (on the same graph, check the matplotlib documentation).\n",
    "\n",
    "7. Label the curves to indicate the different cosmological epochs (e.g., radiation and matter domination), try to cross-check the different dependencies."
   ]
  },
  {
   "cell_type": "code",
   "execution_count": null,
   "id": "092bda24-c3e5-465f-9437-4cebe2da972d",
   "metadata": {},
   "outputs": [],
   "source": [
    "# Plot the results\n",
    "plt.plot(t, a_t/a_t[-1]) #Usually the value of a is normalized to 1 today!\n",
    "plt.xlabel('Time [Gyr]')\n",
    "plt.ylabel('Scale Factor $a(t)$')\n",
    "plt.title('Evolution of the Scale Factor with the Euler Method')\n",
    "plt.grid(True)\n",
    "plt.show()"
   ]
  },
  {
   "cell_type": "markdown",
   "id": "133cfab4-7c0d-41e5-9dc6-f0634f20cd5c",
   "metadata": {},
   "source": [
    "In the next step, we use a more sophisticated method, the \"odeint\" tool from the very powerful scipy (\"Scientific Python\") library. Make yourself familier with the method and solve the problem using it. <br>\n",
    "\n",
    "**Hint:** With help(...) you can get access to the explanation of the syntax and general information of any module"
   ]
  },
  {
   "cell_type": "code",
   "execution_count": null,
   "id": "96ae0276-6343-40eb-a71e-7ef3bf15bccd",
   "metadata": {},
   "outputs": [],
   "source": [
    "#Solve the differential equation for a_dot using the more sophisticated odeint method form scipy.integrate\n",
    "from scipy.integrate import odeint"
   ]
  },
  {
   "cell_type": "code",
   "execution_count": null,
   "id": "6427d991-38d3-425b-a316-05f551f03ebb",
   "metadata": {},
   "outputs": [],
   "source": [
    "start = time.time()\n",
    "a_t = #YOUR CODE HERE (Hint: use help(odeint) to check the syntax and put in the initial values from before, its basically a 1-liner ;-))\n",
    "end = time.time()\n",
    "print('Done. This computation took %f seconds'%(end-start))"
   ]
  },
  {
   "cell_type": "code",
   "execution_count": null,
   "id": "b3bb6fab-3a51-40b2-994d-ffed60196c7d",
   "metadata": {},
   "outputs": [],
   "source": [
    "# Plot the results\n",
    "plt.plot(t, a_t/a_t[-1]) #Usually the value of a is normalized to 1 today! This syntax only works if you are working with numpy arrays (as you should whenever it is possible)\n",
    "plt.xlabel('Time [Gyr]')\n",
    "plt.ylabel('Scale Factor $a(t)$')\n",
    "plt.title('Evolution of the Scale Factor with odeint')\n",
    "plt.grid(True)\n",
    "plt.show()"
   ]
  },
  {
   "cell_type": "markdown",
   "id": "1beab552-d187-42d5-b65e-8e84b18da91b",
   "metadata": {},
   "source": [
    "#### Challenge\n",
    "- Experiment with different initial conditions and observe how they affect the evolution of the scale factor during different epochs.\n",
    "- Discuss the implications of these results for the early universe's expansion dynamics.\n",
    "\n",
    "#### Reminder\n",
    "The scale factor $a(t)$ represents the relative size of the universe at different times, and understanding its evolution is crucial in cosmology."
   ]
  },
  {
   "cell_type": "markdown",
   "id": "6ff70cdb-555a-4e4a-a76b-5a7497294c45",
   "metadata": {},
   "source": [
    "#### Bonus Exercise:\n",
    "The scale factor is related to the very commenly used quantity \"redshift\" $z$ via the relation $a(t) = \\frac{1}{1+z}$. Try to convert your plot into an evolution plot for the redshift!"
   ]
  },
  {
   "cell_type": "markdown",
   "id": "ec140a7f-bd0e-4bb7-8ef3-0de415521023",
   "metadata": {},
   "source": [
    "**Reminder:** Obviously there are way more sophisticated integration methods, but this definitely goes beyond of the scope of this first tutorial. I suggest you as a take-home exercise to try to solve the equation you implemented right now using a BVP (\"boundary value problem\") solver, which is more sophisticated than the IVP (\"initial value problem\") approach we used today! In this concrete example you could solve the equation with the conditions $a(0) = 10^{-5}$ (or any other small number) and $a(\\text{today})=1$, as usual. I will try to compile a collection of useful links with tutorials and more information during the semester, especially for those of you who havent got much experience with working with the numerical tools we are planning to discuss here."
   ]
  },
  {
   "cell_type": "markdown",
   "id": "df8d4de4-feda-472f-8f34-f7ebe643075f",
   "metadata": {
    "jp-MarkdownHeadingCollapsed": true,
    "tags": []
   },
   "source": [
    "### Outlook on Additional Exercises*\n",
    "\n",
    "Now that you've explored the basics of modeling the expansion of the universe and the evolution of the scale factor, you can delve deeper into the fascinating world of cosmology. The hot Big Bang model offers a rich playground for understanding the early universe's dynamics. Here are some exercises to consider for further exploration:\n",
    "\n",
    "1. *Temperature Evolution*: In the early universe, the Universe cools down as it expands. You can set up differential equations to model the temperature's dependence on the scale factor and time. By solving these equations, you can visualize how the temperature of the universe changes as it expands (next lectures ..).\n",
    "\n",
    "2. *Nucleosynthesis*: Nucleosynthesis is the process by which light elements like hydrogen, helium, and lithium were formed in the early universe. Explore the conditions required for nucleosynthesis to occur and calculate the predicted abundances of these light elements (probably in the next tutorial :-)).\n",
    "\n",
    "3. *Cosmic Microwave Background (CMB)*: The CMB is the afterglow of the Big Bang and provides a wealth of information about the early universe. Study the physics behind the CMB, including its spectrum and anisotropies, and consider exercises related to analyzing CMB data.\n",
    "\n",
    "4. *Dark Matter and Dark Energy*: Extend your model to include the effects of dark matter and dark energy. Investigate their influence on the expansion rate of the universe and explore how they impact the scale factor's evolution.\n",
    "\n",
    "5. *Inflation*: The theory of cosmic inflation suggests that the universe underwent a rapid exponential expansion in its earliest moments. Create models that describe inflation and its consequences, such as the initial conditions for the hot Big Bang.\n",
    "\n",
    "6. *Structure Formation*: Investigate the formation of large-scale structures in the universe, including galaxies and galaxy clusters. Consider exercises related to the growth of density perturbations and the formation of cosmic structure.\n",
    "\n",
    "7. *Observational Data Analysis*: Explore real observational data from cosmological surveys and missions, such as the Planck satellite or the Sloan Digital Sky Survey (SDSS). Analyze data to determine cosmological parameters and test theoretical predictions.\n",
    "\n",
    "8. *Advanced Numerical Methods*: If you're comfortable with numerical methods, consider implementing more advanced numerical techniques for solving cosmological equations.\n",
    "\n",
    "These exercises will not only deepen your understanding of cosmology but also provide a foundation for more advanced research in the field. By combining theoretical modeling with real observational data, you can gain insights into the mysteries of the universe's origins and evolution.\n",
    "\n",
    "Remember that cosmology is a dynamic and evolving field with ongoing discoveries, so stay curious and continue exploring the cosmos."
   ]
  }
 ],
 "metadata": {
  "kernelspec": {
   "display_name": "Python 3",
   "language": "python",
   "name": "python3"
  },
  "language_info": {
   "codemirror_mode": {
    "name": "ipython",
    "version": 3
   },
   "file_extension": ".py",
   "mimetype": "text/x-python",
   "name": "python",
   "nbconvert_exporter": "python",
   "pygments_lexer": "ipython3",
   "version": "3.8.13"
  }
 },
 "nbformat": 4,
 "nbformat_minor": 5
}
