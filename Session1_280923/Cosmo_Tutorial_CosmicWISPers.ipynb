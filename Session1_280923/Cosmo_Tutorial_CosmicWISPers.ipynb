{
 "cells": [
  {
   "cell_type": "markdown",
   "id": "b2fe8c0d-7210-468b-af3b-1b2a01ada84e",
   "metadata": {},
   "source": [
    "# 1st Training School of the COST Action CA21106 \"Cosmic WISPers\"\n",
    "\n",
    "#### 13.09.2023, Rettorato Universita' del Salento, Lecce (Italy)"
   ]
  },
  {
   "cell_type": "markdown",
   "id": "b808005e-b962-4312-991d-f380d3267ae2",
   "metadata": {
    "tags": []
   },
   "source": [
    "## Axion Cosmology and Cosmological Bounds \n",
    "\n",
    "Lectures: Dr. Ciaran O'Hare (U. Sydney, ciaran.ohare@sydney.edu.au) <br>\n",
    "Tutorial: Mathieu Kaltschmidt (U. Zaragoza, mkaltschmidt@unizar.es)"
   ]
  },
  {
   "cell_type": "markdown",
   "id": "1b3e7048-3526-487d-ad5b-8a0d2e8abdfa",
   "metadata": {},
   "source": [
    "### Goal of these exercises\n",
    "\n",
    "The main obejective of this set of exercises is to make you familiar with the numerical tools and simulations that are regularly used in the context of early Universe Axion Cosmology, as discussed in the lectures."
   ]
  },
  {
   "cell_type": "markdown",
   "id": "5816aa04-d256-4245-a8aa-bcf5781cfd37",
   "metadata": {},
   "source": [
    "### Overview\n",
    "\n",
    "The idea is to guide you through the implementation of your own axion string simulation code and run multiple simulations focusing on different parameter choices, that change the physics and therefore the expected outcomes. \n",
    "\n",
    "We plan to cover the following topics:\n",
    "\n",
    "- Numerical techniques to solve differential equations\n",
    "- Simulation of a complex scalar field in the early Universe\n",
    "- Study of a toy model and QCD effects\n",
    "- Overview on current research efforts in this area\n",
    "- Whatever you are interested in! :-)"
   ]
  },
  {
   "cell_type": "markdown",
   "id": "a1d602b6-204e-40d3-a943-1e151832c0d7",
   "metadata": {
    "tags": []
   },
   "source": [
    "## Exercise 1: Creating your first simple Axion String Simulation"
   ]
  },
  {
   "cell_type": "markdown",
   "id": "4890fa2f-ec66-47c8-8d1a-1e761f581874",
   "metadata": {},
   "source": [
    "We start by loading the relevant python modules we need for the simulations."
   ]
  },
  {
   "cell_type": "code",
   "execution_count": null,
   "id": "5f005b3c-c85d-4b15-8012-e4ceda7469a4",
   "metadata": {},
   "outputs": [],
   "source": [
    "# Load needed modules\n",
    "import numpy as np\n",
    "from numpy import *\n",
    "\n",
    "#Plots and Animations\n",
    "import matplotlib.pyplot as plt\n",
    "%matplotlib inline\n",
    "\n",
    "import matplotlib\n",
    "from matplotlib import cm\n",
    "import matplotlib.animation as animation\n",
    "from matplotlib import rc\n",
    "rc('animation', html='jshtml',embed_limit='1000')\n",
    "\n",
    "#Performance\n",
    "from numba import jit "
   ]
  },
  {
   "cell_type": "markdown",
   "id": "1ee6617d-d389-4d8a-be5f-16600bcceeb8",
   "metadata": {},
   "source": [
    "The first task is to set up the numerical environment for the initially (2+1)D-simulations. We specify the grid size, the spatial resolution and the time stepping for the propagation. Additionally we fix some of the physics."
   ]
  },
  {
   "cell_type": "markdown",
   "id": "b42e83c9-fc95-492e-ab0e-d0ec9d6aa3a1",
   "metadata": {},
   "source": [
    "#### Numerical Setup (Grid, Time stepping, Cosmology ...)"
   ]
  },
  {
   "cell_type": "code",
   "execution_count": null,
   "id": "1af8f425-7439-4dbb-a163-02a71c748ff0",
   "metadata": {},
   "outputs": [],
   "source": [
    "#Grid Setup\n",
    "N = 128 #Number of grid points in one dimension (total grid = NxNxN points)\n",
    "L = 128.0 #Volume of the simulation box\n",
    "dx = N/L\n",
    "\n",
    "#Time stepping\n",
    "dt = 0.1 # timestep \n",
    "tmax = int(0.5*N*dx/dt) #light-crossing time (end of the simulation)\n",
    "\n",
    "#Physics\n",
    "alpha = 1 # PRS parameter (keep the strings \"thick\", in an expanding universe)\n",
    "era = 2 #Fix cosmology: Radiation domination\n",
    "w = 3 #String width in units of dx"
   ]
  },
  {
   "cell_type": "markdown",
   "id": "935f3b13-565f-4605-b767-7599e35ef1cd",
   "metadata": {
    "tags": []
   },
   "source": [
    "#### Initial conditions"
   ]
  },
  {
   "cell_type": "code",
   "execution_count": null,
   "id": "c86275a5-ff9c-4d16-8f6d-6c22065fba59",
   "metadata": {},
   "outputs": [],
   "source": [
    "#Initial time\n",
    "t = 1.0*dt\n",
    "\n",
    "#Randomly distribute initial field values \n",
    "theta = 2*pi*random.uniform(size=(N,N))\n",
    "phi1 = cos(theta) #Real part \n",
    "phi2 = sin(theta) #Imaginary part\n",
    "\n",
    "#Create arrays for the field derivatives\n",
    "phidot1 = zeros_like(phi1) \n",
    "phidot2 = zeros_like(phi2) "
   ]
  },
  {
   "cell_type": "code",
   "execution_count": null,
   "id": "85f2f9d2-3b32-4419-8a49-00c763dc2e76",
   "metadata": {},
   "outputs": [],
   "source": [
    "#Have a look at the initial distribution\n",
    "fig = plt.figure(figsize=(12,8))\n",
    "ax = fig.add_subplot()\n",
    "\n",
    "cmap = cm.twilight #Choose whichever periodic colormap you like\n",
    "im = ax.imshow(arctan2(phi2,phi1),cmap=cmap)\n",
    "plt.colorbar(im)\n",
    "plt.show()"
   ]
  },
  {
   "cell_type": "markdown",
   "id": "4cc368be-90b2-4eed-8811-cff40e79f208",
   "metadata": {
    "tags": []
   },
   "source": [
    "#### Numerical Evolution Algorithm(s)"
   ]
  },
  {
   "cell_type": "markdown",
   "id": "232f7654-dee8-4bde-81af-ad890e2c36ff",
   "metadata": {},
   "source": [
    "To run our simulation we need to solve the equation of motion stepwise. Start by implementing the 2D version of the discrete Laplacian below: \n"
   ]
  },
  {
   "cell_type": "code",
   "execution_count": null,
   "id": "92d5c0cc-2ef2-419d-846e-fb785070bb4f",
   "metadata": {},
   "outputs": [],
   "source": [
    "# Function to do the discrete Laplacian in 2D\n",
    "@jit(nopython=True)\n",
    "def Laplacian_2D(phi,dx,N):\n",
    "    #YOUR CODE HERE"
   ]
  },
  {
   "cell_type": "markdown",
   "id": "30714a32-6c03-4d9d-9879-56551b1e6cf3",
   "metadata": {},
   "source": [
    "Using the Laplacian you just implemented, complete the implementation of the integration kernel for our toy model, that will be updated at every iteration step. Keep in mind, that we have to compute the kernel for both, the real and the imaginary part of the field."
   ]
  },
  {
   "cell_type": "code",
   "execution_count": null,
   "id": "685742cf-6592-467c-b8fb-e403e1fb8480",
   "metadata": {
    "tags": []
   },
   "outputs": [],
   "source": [
    "#Evolution Kernel\n",
    "def Kernel(phi1, phi2, phidot1, phidot2):\n",
    "    K1 = #YOUR CODE HERE\n",
    "    K2 = #YOUR CODE HERE\n",
    "    return K1, K2"
   ]
  },
  {
   "cell_type": "markdown",
   "id": "8e370932-1631-43c0-a705-e4a85aca7eab",
   "metadata": {},
   "source": [
    "Compute the kernel for the initial conditions we generated above:"
   ]
  },
  {
   "cell_type": "code",
   "execution_count": null,
   "id": "b25f6dc5-6e75-4758-b4a2-065a94de7fd2",
   "metadata": {},
   "outputs": [],
   "source": [
    "K1, K2 = Kernel(phi1, phi2, phidot1, phidot2)"
   ]
  },
  {
   "cell_type": "markdown",
   "id": "3d1c41e2-a756-40ae-9b1d-491424a30088",
   "metadata": {},
   "source": [
    "Our integrator of choice for this setup is a simple Leapfrog scheme, as discussed on the tutorial slides. Your task is to complete the implementation of the algorithm by completing the below function Evolve(). We already prepared some part of the code, that will allow us to create animations of our simulations to check if everything is working."
   ]
  },
  {
   "cell_type": "code",
   "execution_count": null,
   "id": "79437d01-472f-42e0-9e12-c28672ae269b",
   "metadata": {},
   "outputs": [],
   "source": [
    "def Evolve(timestep):\n",
    "    #variables need to be declared as global to not be overwritten for every iteration step\n",
    "    global t, phi1, phi2, phidot1, phidot2, K1,K2\n",
    "    \n",
    "    #Plot setup\n",
    "    ax.clear()\n",
    "    ax.set_title('Timestep = '+ str(int(t/dt)))\n",
    "    \n",
    "    #Update phi1 and phi2 and increase time\n",
    "   \n",
    "    #YOUR CODE HERE\n",
    "    \n",
    "    #Update the Kernels\n",
    "    \n",
    "    #YOUR CODE HERE\n",
    "    \n",
    "    #Update phidot1 and phidot2\n",
    "    \n",
    "    #YOUR CODE HERE\n",
    "    \n",
    "    #Store plot of the current timestep\n",
    "    im = ax.imshow(arctan2(phi2,phi1), cmap=cmap, interpolation='nearest')\n",
    "    return im"
   ]
  },
  {
   "cell_type": "code",
   "execution_count": null,
   "id": "2bdfbc56-46a5-42e4-915e-2b331521c230",
   "metadata": {},
   "outputs": [],
   "source": [
    "#Set up the figure for displaying the simulation results\n",
    "fig = plt.figure(figsize=(12,8))\n",
    "ax = fig.add_subplot(111)\n",
    "plt.close() #Not display empty figure"
   ]
  },
  {
   "cell_type": "code",
   "execution_count": null,
   "id": "6e738796-f5d1-4365-adb7-accfe3ebdd16",
   "metadata": {
    "tags": []
   },
   "outputs": [],
   "source": [
    "#Create an animation by running the simulation\n",
    "simulation = animation.FuncAnimation(fig, Evolve, frames=tmax, blit=False, repeat=True)"
   ]
  },
  {
   "cell_type": "code",
   "execution_count": null,
   "id": "e960335c-7f96-4c89-ac48-1bc248e3905b",
   "metadata": {
    "tags": []
   },
   "outputs": [],
   "source": [
    "#Run the simulation\n",
    "simulation "
   ]
  },
  {
   "cell_type": "markdown",
   "id": "e3e902b4-341b-4789-8fa4-aba716d576e2",
   "metadata": {},
   "source": [
    "What are you observing? Try to play with the different parameters and see what happens if you, for example, increase the timestep or the spatial resolution!"
   ]
  },
  {
   "cell_type": "markdown",
   "id": "a31cbce5-9e05-44c5-881b-4386d51cd87b",
   "metadata": {
    "tags": []
   },
   "source": [
    "## Exercise 2: Thermal Effects and the Axion mass"
   ]
  },
  {
   "cell_type": "markdown",
   "id": "e3222505-aa85-4fd5-890e-17adf4ff1133",
   "metadata": {},
   "source": [
    "So far we didn't care about a possible mass term for the scalar field. This will be the focus of this part of the exercise. Add the mass term (cf. slides) to the respective kernels and rerun the simulations. What do you observe? Change the mass parameter below and see what happens. <br>\n",
    "\n",
    "Note, that for the case of the QCD axion, the mass strongly depends on the temperature ($m_a \\sim T^{-n}$ with $n \\simeq 8$). To keep things simple, we restrict ourself to a constant mass, but feel free to study more complex cases."
   ]
  },
  {
   "cell_type": "code",
   "execution_count": null,
   "id": "89e39909-d497-4ca1-96d4-561394bfdb4e",
   "metadata": {},
   "outputs": [],
   "source": [
    "m = 0.1 #mass"
   ]
  },
  {
   "cell_type": "code",
   "execution_count": null,
   "id": "8201b822-b814-481f-9078-bc4caca3077a",
   "metadata": {
    "tags": []
   },
   "outputs": [],
   "source": [
    "#Evolution Kernel including mass terms \n",
    "def KernelQCD(phi1, phi2, phidot1, phidot2):\n",
    "    K1, K2 = Kernel(phi1, phi2, phidot1, phidot2) \n",
    "    \n",
    "    #Add the mass terms\n",
    "    K1 += #YOUR CODE HERE\n",
    "    K2 += #YOUR CODE HERE\n",
    "    return K1, K2"
   ]
  },
  {
   "cell_type": "markdown",
   "id": "2297308f-28bc-4bc7-a5d6-f6f11d1249e8",
   "metadata": {},
   "source": [
    "Generalise the previous implementation to include mass effects. You can use your solution from the previous exercise and simply replace the computation of the kernels with the new KernelQCD() function, that features the mass term."
   ]
  },
  {
   "cell_type": "code",
   "execution_count": null,
   "id": "5957c1a7-5063-48f5-aee2-e12f00b67cc6",
   "metadata": {},
   "outputs": [],
   "source": [
    "def EvolveQCD(phi1, phi2, phidot1, phidot2, f1, f2):\n",
    "    \n",
    "    #YOUR CODE HERE\n",
    "    \n",
    "    return im"
   ]
  },
  {
   "cell_type": "code",
   "execution_count": null,
   "id": "aaf99ecf-8d9c-47c1-ae19-82d81a47b7f2",
   "metadata": {},
   "outputs": [],
   "source": [
    "#Set up the figure for displaying the simulation results\n",
    "fig = plt.figure(figsize=(12,8))\n",
    "ax = fig.add_subplot(111)\n",
    "plt.close() #Not display empty figure"
   ]
  },
  {
   "cell_type": "code",
   "execution_count": null,
   "id": "7b2b78e2-fe7b-45f8-b8f4-2d8874c2285c",
   "metadata": {},
   "outputs": [],
   "source": [
    "#Create an animation by running the simulation\n",
    "simulation = animation.FuncAnimation(fig, Evolve, frames=tmax, blit=False, repeat=True)"
   ]
  },
  {
   "cell_type": "code",
   "execution_count": null,
   "id": "a7aa9b0c-73b5-4e32-a76f-d0f9700d8bd2",
   "metadata": {},
   "outputs": [],
   "source": [
    "#Run the simulation\n",
    "simulation "
   ]
  },
  {
   "cell_type": "markdown",
   "id": "f4605603-3db7-4e2d-9106-d9beef498322",
   "metadata": {},
   "source": [
    "From here on, you can decide how you want to proceed. We prepared some suggestions for specific extensions of this basic simulation code on the tutorial slides. You could for example try to generalise your setup to (3+1)D, which is in principle straightforward (except maybe the visualization ...). An interesting case from the physics perspective would be the study of a model with domain wall number $N_{\\mathrm{DW}}=2$. <br>\n",
    "There is a lot of interest in these kind of simulations and multiple groups are actively putting in a lot of effort to overcome the (computational) problems that one has to face in this context (cf. for example my talk from Tuesday). "
   ]
  },
  {
   "cell_type": "markdown",
   "id": "1afb7450-0505-4892-8c0a-ae7d40f588e1",
   "metadata": {
    "jp-MarkdownHeadingCollapsed": true,
    "tags": []
   },
   "source": [
    "## Bonus: Going to (3+1)D"
   ]
  },
  {
   "cell_type": "markdown",
   "id": "b061b450-9c1f-4788-ad9f-b7b2b97da4c7",
   "metadata": {},
   "source": [
    "Of course, the real deal is to perform theses simulations in 3+1D. This is of computationally way more expensive and modern codes usually run on powerful HPC facilities. For those of you who still have some time and want to try out the 3D case, the exercise is to extend the simulation setup to include an additional spatial dimension. Start with the Laplacian:"
   ]
  },
  {
   "cell_type": "code",
   "execution_count": null,
   "id": "a76d012d-102c-4f0e-93c7-ef46bdc986dd",
   "metadata": {},
   "outputs": [],
   "source": []
  },
  {
   "cell_type": "code",
   "execution_count": null,
   "id": "f80b6c26-5fb2-4f8a-845b-9f3cab05eb15",
   "metadata": {},
   "outputs": [],
   "source": [
    "def Laplacian_3D(phi, dx, N):\n",
    "    #YOUR CODE HERE"
   ]
  },
  {
   "cell_type": "markdown",
   "id": "cb33b1a7-32e2-4d2a-bc5f-dc89a7921c7c",
   "metadata": {},
   "source": [
    "Don't forget to initialise the fields and derivaties in 3D!"
   ]
  },
  {
   "cell_type": "code",
   "execution_count": null,
   "id": "ed8e4b4d-6049-4942-abfd-6ca283779457",
   "metadata": {},
   "outputs": [],
   "source": [
    "#Initial time\n",
    "t = 1.0*dt\n",
    "\n",
    "N=64 #only very small scale simulations will be possible on Colab\n",
    "\n",
    "#Randomly distribute initial field values \n",
    "theta = 2*pi*random.uniform(size=(N,N,N))\n",
    "phi1 = cos(theta) #Real part \n",
    "phi2 = sin(theta) #Imaginary part\n",
    "\n",
    "#Create arrays for the field derivatives\n",
    "phidot1 = zeros_like(phi1) \n",
    "phidot2 = zeros_like(phi2) "
   ]
  },
  {
   "cell_type": "markdown",
   "id": "0eeda65b-5628-420c-8932-2512f02a8d14",
   "metadata": {},
   "source": [
    "Try to run and visualize your 3D simulations!"
   ]
  },
  {
   "cell_type": "markdown",
   "id": "80c2a7b4-4821-49c6-aa70-53aabc8a7f1c",
   "metadata": {
    "jp-MarkdownHeadingCollapsed": true,
    "tags": []
   },
   "source": [
    "## Playground for your Ideas"
   ]
  },
  {
   "cell_type": "code",
   "execution_count": null,
   "id": "23b9a772-f599-4e65-848e-5756ca25d1e2",
   "metadata": {},
   "outputs": [],
   "source": []
  },
  {
   "cell_type": "markdown",
   "id": "bf94e0ba-23a0-49da-a585-00b5b430d1e1",
   "metadata": {
    "tags": []
   },
   "source": [
    "## Outlook on JAXIONS "
   ]
  },
  {
   "cell_type": "markdown",
   "id": "42641fc0-f9cf-44fe-bca5-4592bc1f9db8",
   "metadata": {},
   "source": [
    "If these introductory exercises sparked your interest in working on axion dark matter simulations, we want to highlight some of the recent works in this area and invite you to have a look at the Jaxions code, that is publicly available on GitHub (https://github.com/veintemillas/jaxions). Below you can find the references that use Jaxions to run their simulations."
   ]
  },
  {
   "cell_type": "markdown",
   "id": "86d71e5f-4d7c-4760-9ce4-a0524325761e",
   "metadata": {
    "tags": []
   },
   "source": [
    "### Further Reading and Applications\n",
    "\n",
    "1. A. Vaquero, J. Redondo, J. Stadler (2018): Early seeds of axion miniclusters, [1809.09241](https://arxiv.org/abs/1809.09241)\n",
    "\n",
    "2. B. Eggemeier, J. Redondo, K. Dolag, J. Niemeyer, A. Vaquero (2019): First Simulations of Axion Minicluster Halos, [1911.09417](https://arxiv.org/abs/1911.09417)\n",
    "\n",
    "3. C. O’Hare, G.Pierobon, J. Redondo, Y. Wong (2021): Simulations of axionlike particles in the post-inflationary scenario, [2112.05117](https://arxiv.org/abs/2112.05117)\n",
    "\n",
    "4. B. Eggemeier, C. O’Hare, G.Pierobon, J. Redondo, Y. Wong (2022): Axion minivoids and implications for direct detection, [2212.00560](https://arxiv.org/abs/2212.00560)\n",
    "\n",
    "5. G. Pierobon, J. Redondo, K. Saikawa, A. Vaquero, G. D. Moore (2023): Miniclusters from axion string simulations, [2307.09941](https://arxiv.org/abs/2307.09941)\n",
    "\n",
    "Find the Jaxions Code Repository on Github: https://github.com/veintemillas/jaxions. A complete manual and a website explaining the analysis tools are currently work in progress.\n",
    "\n",
    "If you have any further questions, get in touch!\n"
   ]
  }
 ],
 "metadata": {
  "kernelspec": {
   "display_name": "Python 3",
   "language": "python",
   "name": "python3"
  },
  "language_info": {
   "codemirror_mode": {
    "name": "ipython",
    "version": 3
   },
   "file_extension": ".py",
   "mimetype": "text/x-python",
   "name": "python",
   "nbconvert_exporter": "python",
   "pygments_lexer": "ipython3",
   "version": "3.8.13"
  }
 },
 "nbformat": 4,
 "nbformat_minor": 5
}
