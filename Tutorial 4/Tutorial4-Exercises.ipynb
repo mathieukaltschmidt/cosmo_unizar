{
 "cells": [
  {
   "cell_type": "markdown",
   "id": "b4608da9-61fc-4785-8c90-9e629b69fa88",
   "metadata": {},
   "source": [
    "# Cosmology I - The Early Universe (Academic Year 2023/2024)\n",
    "\n",
    "#### Lecture for the Master's degree on \"Physics of the Universe: Cosmology, Astrophysics, Particles and Astroparticles\" at the University of Zaragoza, Spain. <br>\n",
    "\n",
    "**Lectures:** José Manuel Carmona (jcarmona@unizar.es) <br> \n",
    "**Tutorials:** Mathieu Kaltschmidt (mkaltschmidt@unizar.es)"
   ]
  },
  {
   "cell_type": "markdown",
   "id": "18221fa9-acbc-4a91-b9ce-a38938b3ee5d",
   "metadata": {
    "tags": []
   },
   "source": [
    "## Tutorial 4: Processing and Analysis of CMB Data"
   ]
  },
  {
   "cell_type": "markdown",
   "id": "6aa2b0cc-c1db-4eec-9187-a821455f1dde",
   "metadata": {
    "tags": []
   },
   "source": [
    "In this tutorial, we'll dive into the physics of the  Cosmic Microwave Background (CMB) and learn how we can use python and its incredible data analysis tools to study and make sense of (large) cosmological datasets.\n",
    "\n",
    "To get started, make sure you have the necessary modules installed. Run the following command in your terminal to install the required module(s), i.e healpy (for example via pip install ...)\n",
    "\n",
    "##### General Comment: \n",
    "As always, if you prefer to work in Mathematica, feel free to transfer the exercises! "
   ]
  },
  {
   "cell_type": "markdown",
   "id": "2ca54b10-58a3-4906-8439-8d6268af84f1",
   "metadata": {
    "tags": []
   },
   "source": [
    "### Exercise 1: Basic Data Analysis in Python"
   ]
  },
  {
   "cell_type": "markdown",
   "id": "69f9d3dc-ea55-4ce6-87f9-49a903a7ea69",
   "metadata": {},
   "source": [
    "Objective: In this exercise, you will generate a sinusoidal function, discretize it, add random noise, save the data to a text file, load it back, and fit the original function.\n",
    "\n",
    "Instructions:\n",
    "\n",
    "1) Generate and Plot the Original Function:\n",
    "Define a sinusoidal function with amplitude (A), phase (phi), and periodicity (T). For example, you can use y(t) = A * sin(2 * pi * t / T + phi).\n",
    "Create an array of time values (t) and plot the original sinusoidal function. \n",
    "2) Discretize the Function and Add Noise:\n",
    "Discretize the original function by sampling it at discrete time points.\n",
    "Add random noise to the discretized data to simulate measurement errors. \n",
    "3) Save the Discretized Data:\n",
    "Use np.savetxt to save the discretized data (time and temperature points) to a text file named \"data.txt\".\n",
    "4) Load the Data and Fit the Original Function:\n",
    "Use np.loadtxt to load the data from \"sinusoidal_data.txt\" into new arrays.\n",
    "Define a fitting function that represents the sinusoidal model $(A * \\sin(2 * \\pi * t / T + \\phi))$.\n",
    "Use curve_fit from scipy.optimize to fit the model to the loaded data and retrieve the fitted parameters.\n",
    "Plot the original function, the noisy data, and the fitted model on the same graph."
   ]
  },
  {
   "cell_type": "code",
   "execution_count": null,
   "id": "b71db74d-aebe-448e-9ab3-dd0e523f175a",
   "metadata": {},
   "outputs": [],
   "source": [
    "import numpy as np\n",
    "import matplotlib.pyplot as plt\n",
    "from scipy.optimize import curve_fit"
   ]
  },
  {
   "cell_type": "code",
   "execution_count": null,
   "id": "decaa45d-802c-4f14-a41f-5b177aad8a37",
   "metadata": {},
   "outputs": [],
   "source": [
    "# Step 1: Generate and Plot the Original Function\n",
    "A = 2.0  # Amplitude\n",
    "phi = np.pi / 4  # Phase\n",
    "T = 2.0  # Periodicity\n",
    "\n",
    "def function(t):\n",
    "    return A * np.sin(2 * np.pi * t / T + phi)\n",
    "\n",
    "# Generate time values\n",
    "t_values = np.linspace(0, 4 * T, 1000)\n",
    "\n",
    "# Plot the original function\n",
    "plt.plot(t_values, function(t_values), label='Original Function')\n",
    "plt.xlabel('Time')\n",
    "plt.ylabel('Temperature')\n",
    "plt.title('Original Sinusoidal Function')\n",
    "plt.legend()\n",
    "plt.show()"
   ]
  },
  {
   "cell_type": "code",
   "execution_count": null,
   "id": "ebb26f45-c1dc-426e-bb71-5d502e69ceae",
   "metadata": {},
   "outputs": [],
   "source": [
    "# Step 2: Discretize the Function and Add Noise\n",
    "\n",
    "# Discretize the function\n",
    "discretized_data = #YOUR CODE HERE\n",
    "\n",
    "# Add random noise\n",
    "noise_amplitude = 0.2\n",
    "noisy_data = #YOUR CODE HERE\n",
    "\n",
    "# Step 3: Save the Discretized Data\n",
    "np.savetxt(#YOUR CODE HERE)\n",
    "\n",
    "# Step 4: Load the Data and Fit the Original Function\n",
    "# Load the data\n",
    "loaded_data = #YOUR CODE HERE\n",
    "\n",
    "# Define the fit function\n",
    "def fit_function(t, A_fit, phi_fit, T_fit):\n",
    "    return #YOUR CODE HERE\n",
    "    \n",
    "    \n",
    "#Fit the model to the loaded data\n",
    "popt, pcov = #YOUR CODE HERE\n",
    "\n",
    "#Plot the results\n",
    "#YOUR CODE HERE"
   ]
  },
  {
   "cell_type": "markdown",
   "id": "83e43766-505b-4db7-a4e5-3a9f4c72f5d3",
   "metadata": {},
   "source": [
    "In the dynamic field of cosmology and astrophysics, where diverse datasets demand adaptability, Python stands out as a preferred language due to its extensive ecosystem of modules catering to various data formats. Two prominent formats in this domain are HDF5 (Hierarchical Data Format version 5) and FITS (Flexible Image Transport System), both seamlessly integrated into Python workflows.\n",
    "\n",
    " - **HDF5 (Hierarchical Data Format version 5):**\n",
    "Python's affinity for HDF5 is exemplified by the h5py library, which provides a straightforward interface for working with HDF5 files. The h5py module allows scientists to effortlessly organize, store, and retrieve hierarchical data structures, making it an ideal choice for managing complex cosmological simulations and diverse observational datasets. Python's flexibility enables researchers to harness HDF5's full potential, facilitating efficient I/O operations and data manipulation.\n",
    "\n",
    " - **FITS (Flexible Image Transport System):**\n",
    "The astropy library, a fundamental component of Python's astronomy ecosystem, excels in handling FITS files. Astropy simplifies the extraction of critical information from FITS headers, streamlining the processing of astronomical data. Python's widespread adoption in the astrophysical community ensures that astropy's capabilities for FITS file manipulation seamlessly integrate with broader scientific workflows, offering ease of use for researchers dealing with imaging data and observational records.\n",
    "\n",
    "Python's Versatility in Handling Different Data Types:\n",
    "Python's strength in cosmological data science lies not only in its support for specific formats but also in its versatility across a myriad of data types. The language's modular nature facilitates the incorporation of specialized libraries for handling various datasets. From numerical arrays (NumPy) to data visualization (Matplotlib) and statistical analysis (SciPy), Python's ecosystem is richly equipped for the diverse demands of cosmological research.\n",
    "\n",
    "The flexibility of Python extends to its ability to interface with both HDF5 and FITS seamlessly. Researchers can leverage h5py and astropy alongside other Python libraries to manipulate and analyze data efficiently. This adaptability makes Python an invaluable tool in cosmological data science, empowering scientists to explore the universe through a unified, comprehensive, and versatile platform."
   ]
  },
  {
   "cell_type": "markdown",
   "id": "9c1bc4ac-891b-4bdf-8c2e-ffd804a11ce2",
   "metadata": {},
   "source": [
    "### Exercise 2: Angular power spectrum from a CMB map\n",
    "\n",
    "**Introduction to the CMB Power Spectrum and Angular Multipole Moments:**\n",
    "\n",
    "The Cosmic Microwave Background (CMB) power spectrum is a fundamental tool in understanding the distribution of temperature fluctuations in the early universe. It provides a statistical characterization of the spatial variations, revealing crucial insights into the underlying cosmological processes. \n",
    "\n",
    "The power spectrum is often expressed in terms of angular multipole moments denoted by \n",
    "$\\ell$ These moments represent the spatial scales of temperature fluctuations on the CMB sky. Larger values of $\\ell$ correspond to smaller scales, capturing fine details in the CMB, while smaller $\\ell$ values represent larger scales, encompassing broader features. It naturally arises from the expansion of the angular two-point correlation function in Legendre polynomials, i.e. \n",
    "\n",
    "$C(\\theta) \\equiv\\left\\langle\\frac{\\delta T}{T}(\\hat{\\mathbf{n}}) \\frac{\\delta T}{T}\\left(\\hat{\\mathbf{n}}^{\\prime}\\right)\\right\\rangle_{\\hat{\\mathbf{n}} \\hat{\\mathbf{n}}^{\\prime}=\\cos \\theta}=\\sum_{\\ell=2}^{\\infty} \\frac{2 \\ell+1}{4 \\pi} C_{\\ell} P_{\\ell}(\\cos \\theta)$.\n",
    "\n",
    "The quantity $D_{\\ell} ≡ \\ell(\\ell + 1)C_{\\ell} /(2\\pi)$  serves as a convenient parameterization of the power spectrum. Here, $C_{\\ell}$ represents the angular power spectrum coefficients, essentially quantifying the amplitude of temperature fluctuations at each angular scale $\\ell$.\n",
    "The factor $\\ell(\\ell + 1) /(2\\pi)$ ensures that $Dl$ remains dimensionless, providing a clear representation of the underlying power in the fluctuations."
   ]
  },
  {
   "cell_type": "markdown",
   "id": "25cec86e-1b86-4ac4-87f4-bce6ee192199",
   "metadata": {},
   "source": [
    "This exercise will give you practice in using “raw”, pixel- level CMB maps. Here, our goal is to calculate the angular power spectrum of the temperature anisotropy in a map and compare it to the theoretical prediction.\n",
    "In order to perform the tasks in this problem, you will use the software package Healpix (Gorski et al., 2005). Healpix is an ingenious algorithm to pixelize the sphere in equal-area pixels. This pixelization is hierarchical, meaning that a pixel in a higher-resolution setting neatly splits into four pixels at the resolution that is one step lower. The resolution is specified with an input parameter NSIDE which must be a power of 2 (so, 1, 2, 4, 8 etc.); a useful rule of thumb NSIDE = 64 roughly correspond to pixels that are 1◦ on a side (and then NSIDE = 128 is pixelization at about half a degree, etc). Crucially, Healpix comes with routines for Python (called healpy), but also for C and other languages as well, which make the CMB analysis possible, even easy! Having installed healpy (or equivalent for C), you may first want to familiarize yourself with Healpix’ basic commands (https://healpix.sourceforge.io/). <br>\n",
    "Go to Planck experiment’s Legacy Archive (https://pla.esac.esa.int /#maps). and find the SMICA full-sky CMB map (COM CMB IQU-smica 204 8 R3.00 full.fits). Also download a mask, say COM Mask CMB-common-Mask-Int 2048 R3.00.fits (I also provide the respective datasets in Moodle!). The mask helps cover areas likely contaminated by galactic emission (and point sources)\n",
    "and other unwanted artifacts), and consists of ones and zeros, where the zeros indicate areas to be masked. <br>\n",
    "\n",
    "**Concrete Exercises**\n",
    "\n",
    "1) Calculate the angular power spectrum of the (full-sky) CMB map. You will want to make use of the Healpix function anafast. Note that anafast returns the coefficients Cl, while you will want to plot\n",
    "$D_{\\ell} ≡ \\ell(\\ell + 1)C_{\\ell} 2\\pi \\ $ \n",
    "as a function of multipole $l$. This simple analysis is expected to accurately recover the angular power spectrum only on large and intermediate (but not small) scales, so only show this and the following results in the range of, say, $\\ell ∈ [2, 300]$, so capturing the first acoustic peak.\n",
    "2) Compare this measurement with the best-fit theoretical model. You could calculate the latter yourself using some standard software (camb or class). Do the measurements from part 1) match the theory in part b)? Why?\n",
    "3) Repeat the analysis from part 1), but now mask out the area around the Galactic plane. To do that, apply the Planck mask that you downloaded to the SMICA map. There are a few ways to do this; it may be simplest to multiply the map pixel values with the corresponding mask values. The resulting map will have zero temperature in pixels to which the map has been applied. Now repeat the anafast analysis. Without further adjustments, you should find that, in contrast to part b), the measured power is now somewhat smaller than the theory expectation. Why do you think that is?\n",
    "4) To fix up the result in part 3), it is useful to re-read the “A very naive approach” paragraph a bit below Eq. (13.77) in the provided section of the book by Huterer (\"Notes_Exercise2.pdf\"). Clearly, we need to correct the measured power for the missing, masked area. To do that, simply rescale all $D_{\\ell}$ by $1/f_{\\mathrm{sky}}$, where $f_{\\mathrm{sky}}$ is the unmasked fraction of the sky area. The measured angular power spectrum should now match the theory quite well over the range of multipoles suggested in part 1)."
   ]
  },
  {
   "cell_type": "code",
   "execution_count": null,
   "id": "0bba63b5-9149-4d95-a4dd-283776643e5f",
   "metadata": {},
   "outputs": [],
   "source": [
    "import matplotlib\n",
    "matplotlib.rcParams['mathtext.fontset'] = 'cm'\n",
    "default_fontfam = matplotlib.rcParams['font.family']\n",
    "matplotlib.rcParams['font.family'] = 'STIXGeneral'\n",
    "\n",
    "# note this requires that you have installed healpy\n",
    "import healpy as hp"
   ]
  },
  {
   "cell_type": "code",
   "execution_count": null,
   "id": "ba9a02c4-088a-4895-ade1-22f7404e5bf9",
   "metadata": {},
   "outputs": [],
   "source": [
    "#Define Resolution\n",
    "NSIDE = 512  # desired final NSIDE;\n",
    "NPIX = hp.nside2npix(NSIDE)"
   ]
  },
  {
   "cell_type": "markdown",
   "id": "2ef2dfe7-dee8-455c-bb18-46ec9c7588ca",
   "metadata": {},
   "source": [
    "### Read in the Planck SMICA map and a mask, and plot both"
   ]
  },
  {
   "cell_type": "code",
   "execution_count": null,
   "id": "106a3464-7e39-4f90-af04-842e97bbd985",
   "metadata": {},
   "outputs": [],
   "source": [
    "mapfile   = 'DATA_CMB/Planck_smica_512_muK.fits' #adapt data path if needed\n",
    "maskfile  = 'DATA_CMB/Planck_mask_512.fits'\n",
    "\n",
    "Planck_map = hp.read_map(mapfile)\n",
    "mask       = hp.read_map(maskfile)\n",
    "\n",
    "hp.mollview(Planck_map, title=\"Planck SMICA map\", unit=\"mK\")\n",
    "hp.mollview(mask, title=\"mask\", unit=\"\")"
   ]
  },
  {
   "cell_type": "markdown",
   "id": "60c1574f-8772-4f20-bf74-69404e1444e7",
   "metadata": {},
   "source": [
    "#### Degrade both map and mask to desired NSIDE"
   ]
  },
  {
   "cell_type": "code",
   "execution_count": null,
   "id": "b5d7be3a-6e53-4091-b47e-ec41d3ffad7f",
   "metadata": {},
   "outputs": [],
   "source": [
    "Planck_map = #YOUR CODE HERE\n",
    "mask       = #YOUR CODE HERE"
   ]
  },
  {
   "cell_type": "markdown",
   "id": "a1a4b9e4-06c7-4445-a2d3-3ebc4ebf4f00",
   "metadata": {},
   "source": [
    "#### Requantize the (degraded) mask to 0s and 1s"
   ]
  },
  {
   "cell_type": "code",
   "execution_count": null,
   "id": "47fdaaef-a9d0-41c6-9cc2-ddfac6c7c106",
   "metadata": {},
   "outputs": [],
   "source": [
    "THRESHOLD  = 0.9  # some number close to one, below which pix is masked and assigned a zero mask value\n",
    "NPIX_UNMASKED = 0 # counts unmasked pixels\n",
    "\n",
    "for i in range(NPIX):\n",
    "    if (mask[i] < THRESHOLD):\n",
    "        mask[i] = #YOUR CODE HERE\n",
    "    else:\n",
    "        NPIX_UNMASKED += 1\n",
    "        mask[i] = #YOUR CODE HERE"
   ]
  },
  {
   "cell_type": "markdown",
   "id": "cf0aa63e-944f-44c4-b6ae-b79b87d68af9",
   "metadata": {},
   "source": [
    "#### Mask the Planck map, print some quantities"
   ]
  },
  {
   "cell_type": "code",
   "execution_count": null,
   "id": "b881a98a-127e-4dbf-bebd-0b2da498c341",
   "metadata": {},
   "outputs": [],
   "source": [
    "Planck_map = Planck_map*mask #careful with naming ;-)\n",
    "hp.mollview(Planck_map, title=\"Masked SMICA map\", unit=\"mK\")\n",
    "\n",
    "fsky = 1.0*NPIX_UNMASKED/NPIX  #fraction of sky that is unmasked\n",
    "print('total pixels:', NPIX, 'masked pixels', NPIX_UNMASKED, 'fsky=', fsky)"
   ]
  },
  {
   "cell_type": "markdown",
   "id": "76aa7064-5c25-4169-ae73-a272a4b4aefd",
   "metadata": {},
   "source": [
    "#### Subtract the mean (the monopole in the unmasked area)"
   ]
  },
  {
   "cell_type": "code",
   "execution_count": null,
   "id": "ef062748-9bc7-47b3-a513-1dfaf4db2bf2",
   "metadata": {},
   "outputs": [],
   "source": [
    "T_ave = #YOUR CODE HERE\n",
    "\n",
    "print('cut-sky map:   T_ave=', T_ave)\n",
    "Planck_map = Planck_map - T_ave*mask"
   ]
  },
  {
   "cell_type": "markdown",
   "id": "77c158f8-6f51-4608-b275-7417bcfc00ec",
   "metadata": {},
   "source": [
    "#### Calculate the angular power spectrum, first $C_\\ell$, then $D_\\ell = l(l+1)C_\\ell/2\\pi$\n",
    "\n",
    "Note that the map is in $mK$, so $C_\\ell$ is in $(mK)^2$."
   ]
  },
  {
   "cell_type": "code",
   "execution_count": null,
   "id": "1432f4a8-d2cf-4f15-ab1f-054120e1b7e2",
   "metadata": {},
   "outputs": [],
   "source": [
    "Cl_map = #Your code here; Hint: a single healpy function\n",
    "\n",
    "Dl_map=[]\n",
    "for l, val in enumerate(Cl_map):\n",
    "    Dl = #YOUR CODE HERE\n",
    "    Dl_map.append(Dl)"
   ]
  },
  {
   "cell_type": "markdown",
   "id": "a563c019-df4a-4fe6-bec9-ac44df863a32",
   "metadata": {},
   "source": [
    "#### Compare data with the best fit data for $D_\\ell$"
   ]
  },
  {
   "cell_type": "code",
   "execution_count": null,
   "id": "41737f17-e080-41b1-809a-d4fbb920b2b9",
   "metadata": {},
   "outputs": [],
   "source": [
    "data   = np.loadtxt('DATA_CMB/bestfit_Planck_scalCls.dat')\n",
    "#Dl_theory = data[:, 1]\n",
    "data\n",
    "# rescale the Dl for fsky\n",
    "#Dl_map = [# #YOUR CODE HERE for x in Dl_map]"
   ]
  },
  {
   "cell_type": "markdown",
   "id": "a0d8fc96-72ed-425f-bb24-d2dfe1a2e062",
   "metadata": {},
   "source": [
    "#### Create the final plot, comparing the data with the best fit model"
   ]
  },
  {
   "cell_type": "code",
   "execution_count": null,
   "id": "318383ca-333b-4b16-80ee-3f27ce4b6ee9",
   "metadata": {},
   "outputs": [],
   "source": []
  }
 ],
 "metadata": {
  "kernelspec": {
   "display_name": "Python 3",
   "language": "python",
   "name": "python3"
  },
  "language_info": {
   "codemirror_mode": {
    "name": "ipython",
    "version": 3
   },
   "file_extension": ".py",
   "mimetype": "text/x-python",
   "name": "python",
   "nbconvert_exporter": "python",
   "pygments_lexer": "ipython3",
   "version": "3.8.13"
  }
 },
 "nbformat": 4,
 "nbformat_minor": 5
}
