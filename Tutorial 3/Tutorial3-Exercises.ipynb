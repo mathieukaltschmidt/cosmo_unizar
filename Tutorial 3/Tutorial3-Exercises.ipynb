{
 "cells": [
  {
   "cell_type": "markdown",
   "id": "b4608da9-61fc-4785-8c90-9e629b69fa88",
   "metadata": {},
   "source": [
    "# Cosmology I - The Early Universe (Academic Year 2023/204)\n",
    "\n",
    "#### Lecture for the Master's degree on \"Physics of the Universe: Cosmology, Astrophysics, Particles and Astroparticles\" at the University of Zaragoza, Spain. <br>\n",
    "\n",
    "**Lectures:** José Manuel Carmona (jcarmona@unizar.es) <br> \n",
    "**Tutorials:** Mathieu Kaltschmidt (mkaltschmidt@unizar.es)"
   ]
  },
  {
   "cell_type": "markdown",
   "id": "18221fa9-acbc-4a91-b9ce-a38938b3ee5d",
   "metadata": {
    "tags": []
   },
   "source": [
    "## Tutorial 3: Inflationary Dynamics"
   ]
  },
  {
   "cell_type": "markdown",
   "id": "6aa2b0cc-c1db-4eec-9187-a821455f1dde",
   "metadata": {},
   "source": [
    "Today's tutorial will be about Inflation. The goal is to simulate some basic inflationary models, compute the associated primordial power spectra, and simulate synthetic Cosmic Microwave Background (CMB) temperature maps, as an outlook to one of the next central topics, which will be discussed in great detail in the next exercises. \n",
    "\n",
    "##### General Comment: \n",
    "If you prefer to work in Mathematica, feel free to transfer the exercises! "
   ]
  },
  {
   "cell_type": "code",
   "execution_count": 2,
   "id": "a4f72414-b3f6-47d6-84bf-101da52e3a2c",
   "metadata": {},
   "outputs": [],
   "source": [
    "#Setting up the python environment\n",
    "import numpy as np \n",
    "import matplotlib.pyplot as plt \n",
    "\n",
    "#For tracking the performance\n",
    "import time \n",
    "\n",
    "#For solving ordinary differential equations\n",
    "from scipy.integrate import odeint"
   ]
  },
  {
   "cell_type": "markdown",
   "id": "2ca54b10-58a3-4906-8439-8d6268af84f1",
   "metadata": {
    "tags": []
   },
   "source": [
    "### Exercise 1: Inflationary Models "
   ]
  },
  {
   "cell_type": "markdown",
   "id": "b1bc066b-4573-4709-9cdd-8b07bd122c7f",
   "metadata": {},
   "source": [
    "#### Understanding Slow-Roll Inflation\n",
    "\n",
    "Cosmological inflation, a cornerstone in our understanding of the early universe, is characterized by a phase of rapid, exponential expansion. One significant formulation within this paradigm is known as slow-roll inflation, a term that captures the gradual evolution of the inflaton field during this epoch. This exercise not only delves into the fundamental equations governing slow-roll dynamics but also provides insights into why this phase is aptly named \"slow roll.\"\n",
    "\n",
    "**Slow-Roll Equations:** <br>\n",
    "1. $ \\frac{d\\phi}{dt} = -\\frac{V'(\\phi)}{3H} $ <br>\n",
    "2. $ H^2 = \\frac{8\\pi G}{3}\\left(\\frac{1}{2}\\left(\\frac{d\\phi}{dt}\\right)^2 + V(\\phi)\\right) $\n",
    "\n",
    "**Understanding the term \"Slow Roll\":**\n",
    "\n",
    "The term \"slow roll\" refers to the condition where the rate of change of the inflaton field $\\phi$ is much smaller than the characteristic timescale set by the Hubble parameter $H$. This condition allows us to simplify the dynamics and leads to the slow-roll equations. The \"slowness\" of the roll ensures that the inflationary potential dominates the kinetic energy of the inflaton, leading to a nearly constant Hubble parameter during this phase.\n",
    "\n",
    "\n",
    "#### Hints:\n",
    "1. Extend the slow-roll equations to include the number of e-folds $N$: $\\frac{d\\phi}{dN} = -\\frac{V'(\\phi)}{V(\\phi)}$ and $\\frac{dH}{dN} = -\\frac{1}{3}\\frac{d\\phi}{dN}$ and use a quadratic potential of the form $V(\\phi) = \\frac{1}{2}m^2\\phi^2$.\n",
    "2. Integrate these equations numerically to obtain the evolution of the inflaton field and the Hubble parameter with respect to the number of e-folds.\n",
    "3. Explore how changing the initial conditions and potential parameters affect the number of e-folds and the resulting scale factor.\n",
    "4. Plot the scale factor as a function of the number of e-folds for different sets of parameters.\n",
    "\n",
    "This exercise allows you to see how the dynamics of inflation, as represented by the number of e-folds, influence the expansion of the universe during the inflationary epoch."
   ]
  },
  {
   "cell_type": "code",
   "execution_count": null,
   "id": "0a72e54c-ea82-45e8-9261-87dc6a11550f",
   "metadata": {},
   "outputs": [],
   "source": [
    "# Define the inflationary potential (quadratic potential as an example, more complex examples later)\n",
    "def inflation_potential(phi, m):\n",
    "    return 0.5*m**2*phi**2\n",
    "\n",
    "#Derivative of the inflationary potential with respect to the field phi\n",
    "def inflation_potential_prime(phi, m):\n",
    "    return m**2*phi\n",
    "\n",
    "# Define the slow-roll equations in terms of the number of e-folds (N)\n",
    "def slow_roll_equations(params, N, m):\n",
    "    param1 = ...\n",
    "    param2 = ...\n",
    "    params = [param1, param2]\n",
    "    return params\n",
    "\n",
    "# Function to integrate the slow-roll equations using odeint\n",
    "def solver(N_values, phi0, m):\n",
    "    result = odeint(#YOUR CODE HERE)\n",
    "    return #YOUR CODE HERE"
   ]
  },
  {
   "cell_type": "code",
   "execution_count": null,
   "id": "0a4c4604-6983-4b8e-b8e7-ae494267b18b",
   "metadata": {},
   "outputs": [],
   "source": [
    "# Set up parameters\n",
    "m = 1.0  # Mass parameter in the potential\n",
    "phi0 = 5.0  # Initial value of the inflaton field\n",
    "N_values = np.linspace(0, 60, 9)  # Range of e-folds\n",
    "\n",
    "# Solve for the evolution of inflaton field and Hubble parameter\n",
    "phi_values, H_values = solver(...)"
   ]
  },
  {
   "cell_type": "code",
   "execution_count": null,
   "id": "2b8eba3b-2226-48a0-82df-c4b9751a9d36",
   "metadata": {},
   "outputs": [],
   "source": [
    "#Create a  nice plot of the results here"
   ]
  },
  {
   "cell_type": "markdown",
   "id": "2bc2d617-342a-4714-92c2-436c57c79390",
   "metadata": {
    "tags": []
   },
   "source": [
    "#### Bonus Exercise: Exploring Alternative Inflationary Potentials"
   ]
  },
  {
   "cell_type": "markdown",
   "id": "9dd4e484-f8c7-4c97-b963-6a84f4398b6f",
   "metadata": {
    "tags": []
   },
   "source": [
    "In this exercise, we delve into the motivations behind using alternative inflationary potentials and their implications for the early universe dynamics. Specifically, we consider two alternative potentials: the exponential potential and the hybrid potential. These alternatives arise from theoretical considerations and offer different predictions for the evolution of the inflaton field during inflation.\n",
    "\n",
    "1. **Exponential Potential:**\n",
    "   - **Motivation:** Inspired by chaotic inflation scenarios, the exponential potential $V(\\phi) = V_0 e^{-\\lambda\\phi}$ leads to an inflationary model where the inflaton field rolls down a very steep potential. This exponential behavior results in a prolonged inflationary epoch, providing an alternative to the quadratic potential.\n",
    "   \n",
    "2. **Hybrid Potential:**\n",
    "   - **Motivation:** The hybrid potential $V(\\phi, \\chi) = \\frac{1}{4}\\lambda(\\phi^2 - v^2)^2 + \\frac{1}{2}m^2\\chi^2$ introduces an additional field $\\chi$ interacting with the inflaton $\\phi$. This model allows for a variety of inflationary scenarios, including a phase transition at the end of inflation, leading to different observational signatures.\n",
    "\n",
    "#### Exercise Instructions:\n",
    "1. **Select Potential:** Choose one of the alternative potentials (exponential or hybrid) and substitute it into the `inflation_potential` function.\n",
    "   \n",
    "2. **Repeat Exercise:** Re-run the simulation using the selected potential, comparing the evolution of the inflaton field and the Hubble parameter against the number of e-folds. Consider how the dynamics differ from the quadratic potential case.\n",
    "\n",
    "3. **Analysis:** Discuss and analyze the results. How does the choice of inflationary potential influence the inflationary dynamics and the observable consequences? Compare and contrast the outcomes of different potentials, gaining insights into the rich variety of inflationary scenarios.\n",
    "\n",
    "This exercise aims to deepen your understanding of inflationary models by exploring the consequences of alternative potentials. Through comparative analysis, you will unveil the distinct features that arise from different theoretical motivations, shedding light on the diversity within the inflationary paradigm."
   ]
  },
  {
   "cell_type": "code",
   "execution_count": null,
   "id": "649ce06c-a529-4b08-8de5-b0326c1815ec",
   "metadata": {},
   "outputs": [],
   "source": [
    "#Implementation of the different potentials\n",
    "def inflation_potential_exponential(phi, V0, lam):\n",
    "    return #YOUR CODE HERE\n",
    "\n",
    "def inflation_potential_hybrid(phi, chi, lam, v, m):\n",
    "    return #YOUR CODE HERE"
   ]
  },
  {
   "cell_type": "code",
   "execution_count": null,
   "id": "db4f2bce-c865-4c37-9b50-b14d02b9f669",
   "metadata": {},
   "outputs": [],
   "source": [
    "#YOUR CODE HERE (Reuse the previous results to solve the slow-roll equations)"
   ]
  },
  {
   "cell_type": "markdown",
   "id": "7693fe57-766c-491c-9545-2cdeb369d7ea",
   "metadata": {
    "tags": []
   },
   "source": [
    "### Exercise 2: Primordial Power Spectrum from Inflation"
   ]
  },
  {
   "cell_type": "markdown",
   "id": "dc6d0eaa-f87d-40f1-82f5-559e42f3eb15",
   "metadata": {
    "tags": []
   },
   "source": [
    "In this exercise, we embark on an exploration of the primordial power spectrum — a crucial concept in the study of cosmic microwave background (CMB) anisotropies resulting from inflationary dynamics. The primordial power spectrum encapsulates the amplitude of density fluctuations generated during the inflationary epoch, leaving a lasting imprint on the large-scale structure of the universe.\n",
    "\n",
    "#### Introduction to the Primordial Power Spectrum:\n",
    "The primordial power spectrum $\\mathcal{P}(k)$ quantifies the amplitude of density fluctuations as a function of the comoving wavenumber $k$. It serves as a cornerstone in understanding the origin of structure in the universe. During inflation, quantum fluctuations of the inflaton field give rise to primordial perturbations, and the power spectrum characterizes the statistical properties of these fluctuations.\n",
    "\n",
    "#### Exercise Instructions:\n",
    "1. **Power Spectrum Calculation:** Utilize the slow-roll parameters and the inflationary potential to calculate the primordial power spectrum using the provided formulas, i.e. use the relation between the power spectrum $\\mathcal{P}(k)$ and the inflationary parameters. Consider the slow-roll parameters $(\\epsilon, \\eta)$ and their impact on $\\mathcal{P}(k)$. Use the lecture notes of D. Baumann as a starting point!\n",
    "\n",
    "2. **Visualization:** Plot the resulting power spectrum for a range of comoving wavenumbers $k$. Examine how the shape and amplitude of the power spectrum vary with different inflationary models.\n",
    "\n",
    "3. **Discussion:** Reflect on the implications of the power spectrum. Consider how changes in the inflationary potential impact the amplitude of density fluctuations and, consequently, the large-scale structure of the universe.\n",
    "\n",
    "This exercise provides a stepping stone for future discussions on CMB anisotropies and the observable consequences of inflationary dynamics."
   ]
  },
  {
   "cell_type": "code",
   "execution_count": null,
   "id": "de77522a-6346-4a26-98c7-5a03cb941c76",
   "metadata": {},
   "outputs": [],
   "source": [
    "# Function to calculate the slow-roll parameters\n",
    "def slow_roll_parameters(phi, V, V_prime):\n",
    "    return #YOUR CODE HERE\n",
    "\n",
    "# Function to calculate the primordial power spectrum\n",
    "def calculatePS(k, epsilon, eta):\n",
    "    return #YOUR CODE HERE"
   ]
  },
  {
   "cell_type": "code",
   "execution_count": null,
   "id": "2e88d410-d9ec-47c2-a3b1-1305b5897688",
   "metadata": {},
   "outputs": [],
   "source": [
    "# Parameters\n",
    "phi_values = np.linspace(0.01, 10, 100)  # Inflaton field values\n",
    "V_values = inflation_potential(phi_values, m)  # Potential values from respective inflationary potential\n",
    "\n",
    "# Calculate derivatives of the potential\n",
    "V_prime = #YOUR CODE HERE \n",
    "V_prime_prime = #YOUR CODE HERE\n",
    "\n",
    "# Calculate slow-roll parameters\n",
    "epsilon, eta = #YOUR CODE HERE\n",
    "\n",
    "# Specify a range of momenta\n",
    "k_values = np.logspace(-4, 1, 100)\n",
    "\n",
    "# Calculate the primordial power spectrum\n",
    "power_spectrum_values = #YOUR CODE HERE"
   ]
  },
  {
   "cell_type": "code",
   "execution_count": null,
   "id": "c0c9b33c-3f17-4ebe-a609-69f00a039d31",
   "metadata": {},
   "outputs": [],
   "source": [
    "# Plot the results"
   ]
  },
  {
   "cell_type": "markdown",
   "id": "d69fe0c2-d913-4b47-8e33-6fab25558ffc",
   "metadata": {
    "tags": []
   },
   "source": [
    "### Bonus Exercise 3: Observable Consequences of Inflation (as an Outlook)"
   ]
  },
  {
   "cell_type": "markdown",
   "id": "372cb0db-8f96-4786-a2b9-fc7c5edd9ffb",
   "metadata": {
    "tags": []
   },
   "source": [
    "#### Problem:\n",
    "Simulate the observable consequences of inflation on the Cosmic Microwave Background (CMB) temperature anisotropy. Write a Python program that generates a synthetic CMB temperature map, incorporating inflationary predictions.\n",
    "\n",
    "#### Hints:\n",
    "1. Use the power spectrum calculated in Exercise 2.\n",
    "2. Generate a synthetic CMB map by incorporating temperature fluctuations based on the power spectrum.\n",
    "3. Analyze the resulting temperature map and identify features that can be attributed to inflation."
   ]
  },
  {
   "cell_type": "code",
   "execution_count": null,
   "id": "ec15d511-9bb6-4d45-a6e6-2843f029f2fc",
   "metadata": {},
   "outputs": [],
   "source": [
    "# Function to simulate CMB temperature map\n",
    "def simulate_cmb(phi_values, k_values, epsilon, eta):\n",
    "    return #YOUR CODE HERE"
   ]
  },
  {
   "cell_type": "code",
   "execution_count": null,
   "id": "8e7b72c9-7acb-4426-a31b-68dadda4f361",
   "metadata": {},
   "outputs": [],
   "source": [
    "# Parameters\n",
    "phi_values = np.linspace(0.01, 10, 100)  # Inflaton field values\n",
    "k_values = np.logspace(-4, 0, 100)  # Scales (k values)\n",
    "epsilon, eta = calculate_slow_roll_parameters(phi_values, V_values, V_prime)\n",
    "\n",
    "# Simulate CMB temperature map\n",
    "cmb_temperature_map = simulate_cmb(phi_values, k_values, epsilon, eta)"
   ]
  },
  {
   "cell_type": "code",
   "execution_count": null,
   "id": "5481491d-9c49-49d0-8031-6551a0f74d46",
   "metadata": {},
   "outputs": [],
   "source": [
    "# Plot the results"
   ]
  }
 ],
 "metadata": {
  "kernelspec": {
   "display_name": "Python 3",
   "language": "python",
   "name": "python3"
  },
  "language_info": {
   "codemirror_mode": {
    "name": "ipython",
    "version": 3
   },
   "file_extension": ".py",
   "mimetype": "text/x-python",
   "name": "python",
   "nbconvert_exporter": "python",
   "pygments_lexer": "ipython3",
   "version": "3.8.13"
  }
 },
 "nbformat": 4,
 "nbformat_minor": 5
}
